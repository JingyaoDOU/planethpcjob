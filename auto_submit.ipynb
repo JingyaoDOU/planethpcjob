{
 "cells": [
  {
   "cell_type": "code",
   "execution_count": 1,
   "metadata": {},
   "outputs": [],
   "source": [
    "%load_ext autoreload\n",
    "%autoreload 2\n",
    "\n",
    "from autojobs import setup_impact\n",
    "import numpy as np\n",
    "from templates import TMPL"
   ]
  },
  {
   "cell_type": "code",
   "execution_count": 4,
   "metadata": {},
   "outputs": [],
   "source": [
    "# place where you want to store all you simulations, should be a folder in the work scratch not login scratch.\n",
    "# For example: saveloc = '~/work/superearth/impact/\n",
    "saveloc='.' \n",
    "\n",
    "# location of the parameter file, this is a fake parameter file, you need to change it to your own parameter file in the toolkit.\n",
    "parameter_loc = './fake_parameters_file.yml'\n",
    "\n",
    "# location of target and impactor snapshots, again, you need to change it to your own snapshots.\n",
    "loc_tar='./target_snap.hdf5'\n",
    "loc_imp='./target_snap.hdf5'\n",
    "\n",
    "# Here I am submitting 4 jobs, 2 different impact parameters and 2 different impact velocities (1 and 2 time mutual escape velocity in km/s !!!).\n",
    "# Be careful, the impact velocity is in km/s!!!\n",
    "# Provide tmpl with the templates stored in the templates.py.\n",
    "# I have slightly differnt templates (TMPL) for different HPCs, you can find them in the templates.py file. You need modify it in order to run on your hpc:\n",
    "# * Account name to your own account name\n",
    "# * The location to your yq, for example my is \"~/yq/yq_linux_386\"\n",
    "# * The location where you store your SWIFT executable, for example my is \"/user/home/qb20321/hammer/toolkit/{swift_exe}\"\n",
    "\n",
    "# For regular impact, feep mX ,mZ, and ifspin as False.\n",
    "# Most of time, you need to control:\n",
    "# ncpu: number of cpus you want to use. 28 on BC and 24, 28 or 32 on BP.\n",
    "# swift_exe: the name of your swift executable, for example, mine is \"swift_subtask\", just the name of your executable, not the location.\n",
    "# time_end: the total time you want to run, in seconds. Here 108000s = 30 hours.\n",
    "# delta_time: the time interval you want to save the snapshots, in seconds. Here 36000s = 10 hours, output a snapshot every 10 hours.\n",
    "# time and mem: the time and memory you want to request for each job, here 24 hours and 100G.\n",
    "# test: If you want to automatically submit the job, set test=0, if you just want to just generate the bash script, set test=1.\n",
    "# threads: number of threads you want to use, normally the same as ncpu.\n",
    "for bb in [0.4,0.7]:\n",
    "    for vv in np.array([1.,2.]) * 15.36:\n",
    "        setup_impact(loc_tar,loc_imp,save_folder=saveloc,tmpl=TMPL,b_value=bb,v_value=vv,mX=False,mZ=False,parameter_loc=parameter_loc,ifspin=False,\n",
    "                     period=0.0,partition_name=\"compute\",ncpu=32,hmax=0.2,exclude='[227-228]',dtmax=5.0,CFL=0.2,swift_exe='swift_subtask',\n",
    "                     time_end=108000,delta_time=36000,mem='100G',time='0-24:00:00',test=1,threads=32,chmod=0,verbose=0)\n",
    "\n",
    "\n",
    "# After run the code, you can find a folder automatically generated in your save_folder, for example, here is \"saveloc/pX\".\n",
    "# pX is strcutred as:\n",
    "# pX\n",
    "# |── b0d4\n",
    "# │   ├── v15d36kms\n",
    "# │   │   ├── impact.sh\n",
    "# │   │   ├── PLANETimpact_0d0h_0d99640_npt222272_1d99281_v15d3600kms_b0d400_pX.hdf5\n",
    "# │   │   v30d72kms\n",
    "# │   │   ├── impact.sh\n",
    "# |   |   ├── PLANETimpact_0d0h_0d99640_npt222272_1d99281_v30d7200kms_b0d400_pX.hdf5\n",
    "# |── b0d7\n",
    "# ...\n",
    "\n",
    "# So you can find the bash script and initial condition for each simulation in the corresponding folder.\n",
    "# If you set test=1, you can just manully submit the bash script in each folder.\n"
   ]
  },
  {
   "cell_type": "code",
   "execution_count": null,
   "metadata": {},
   "outputs": [],
   "source": []
  }
 ],
 "metadata": {
  "kernelspec": {
   "display_name": "hammer",
   "language": "python",
   "name": "python3"
  },
  "language_info": {
   "codemirror_mode": {
    "name": "ipython",
    "version": 3
   },
   "file_extension": ".py",
   "mimetype": "text/x-python",
   "name": "python",
   "nbconvert_exporter": "python",
   "pygments_lexer": "ipython3",
   "version": "3.8.13"
  },
  "orig_nbformat": 4
 },
 "nbformat": 4,
 "nbformat_minor": 2
}
